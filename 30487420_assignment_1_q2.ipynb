{
 "cells": [
  {
   "cell_type": "markdown",
   "metadata": {},
   "source": [
    "### Developer: Mayana Mohsin Khan\n",
    "\n",
    "# Section A: Model Complexity and Model Selection\n",
    "\n",
    "## Leave-one-out-Cross-Validation (LooCV)\n",
    "\n",
    "### Loading Packages"
   ]
  },
  {
   "cell_type": "code",
   "execution_count": 7,
   "metadata": {
    "scrolled": false
   },
   "outputs": [],
   "source": [
    "# loading packages\n",
    "library(reshape2)  \n",
    "library(ggplot2) \n",
    "library(corrplot)"
   ]
  },
  {
   "cell_type": "markdown",
   "metadata": {},
   "source": [
    "### Loading Data"
   ]
  },
  {
   "cell_type": "code",
   "execution_count": 8,
   "metadata": {},
   "outputs": [],
   "source": [
    "# load the datasets\n",
    "train <- read.csv('Task1A_train.csv')\n",
    "train.data <- data.matrix(train[,1])\n",
    "\n",
    "# splitting the data into predictiors and labels\n",
    "train.label <- data.matrix(train[,2])\n",
    "test <- read.csv('Task1A_test.csv')\n",
    "test.data <- data.matrix(test[,1])\n",
    "test.label <- data.matrix(test[,2])"
   ]
  },
  {
   "cell_type": "markdown",
   "metadata": {},
   "source": [
    "#### Knn Regressor"
   ]
  },
  {
   "cell_type": "code",
   "execution_count": 9,
   "metadata": {},
   "outputs": [],
   "source": [
    "# Funcion to implement a knn regressor\n",
    "knn <- function(train.data, train.label, test.data, K=3, distance = 'manhattan'){\n",
    "    # Convert the train and test data as a matrix\n",
    "    train.data <- as.matrix(train.data)\n",
    "    train.label<- as.matrix(train.label)\n",
    "    test.data <- as.matrix(test.data)\n",
    "    \n",
    "    # length of the training samples\n",
    "    train.len <- nrow(train.data)\n",
    "    \n",
    "    ## count number of test samples\n",
    "    test.len <- nrow(test.data)\n",
    "\n",
    "    ## calculate distances between samples\n",
    "    dist <- as.matrix(dist(rbind(test.data, train.data), \n",
    "                           method= distance))[1:test.len, (test.len+1):(test.len+train.len)]\n",
    "    \n",
    "    # if lenght of training samples is 1, transform the the distance matrix\n",
    "    if(test.len == 1){\n",
    "        dist <- t(dist)\n",
    "    }\n",
    "\n",
    "    # for each test sample\n",
    "    for (i in 1:test.len){\n",
    "        # get the index of the sample \n",
    "        nn <- as.data.frame(sort(dist[i,], index.return = TRUE))[1:K,2]\n",
    "        # find nearest training samples\n",
    "        y <- train.label[nn,]\n",
    "        # calculate the test labels\n",
    "        test.label[i] <- mean(y)\n",
    "    }\n",
    "    \n",
    "    ## return the class test labels as output\n",
    "    return (test.label)\n",
    "}"
   ]
  },
  {
   "cell_type": "markdown",
   "metadata": {},
   "source": [
    "### I.  Implementing a LooCV.\n",
    "\n",
    "The following steps are prefored in creave a LooCV:\n",
    "* Randomly shuffle the traning samples.\n",
    "* Create the folds.\n",
    "* Loop to the folds.\n",
    "* Calculate the MSE using $mean(actual-predicted)^2$.\n",
    "* Store the MSE as a matrix."
   ]
  },
  {
   "cell_type": "code",
   "execution_count": 10,
   "metadata": {},
   "outputs": [],
   "source": [
    "# function to creave LooCV\n",
    "cv <- function(train.data, train.label, K , numfolds){\n",
    "    # creathe the traning sample length\n",
    "    N = nrow(train.data)\n",
    "    \n",
    "    # randomly sample the index of training data\n",
    "    Index <- sample(N) \n",
    "    \n",
    "    # create training data and label from the sample index\n",
    "    train.data <- train.data[Index,]\n",
    "    train.label <- train.label[Index,]\n",
    "    \n",
    "    # create folds of training sample size\n",
    "    folds <- cut(seq(1,N), breaks = numfolds, labels = FALSE)\n",
    "    \n",
    "    # matrix to store loss error\n",
    "    loocv_err <- matrix(NA, nrow = numfolds, ncol = N)\n",
    "    \n",
    "    # cross validation\n",
    "    for(i in 1:numfolds) {\n",
    "        \n",
    "        # splitting the data based on fold index\n",
    "        fold <- folds[i]\n",
    "        \n",
    "        # creating training and testing data data from splitted samples\n",
    "        data.train <- train.data[-fold]\n",
    "        data.test <- train.data[fold]\n",
    "        label.train <- train.label[-fold]\n",
    "        label.test <- train.label[fold]\n",
    "        \n",
    "        # predict using the knn function\n",
    "        pred <- knn(data.train, label.train, data.test, K)\n",
    "        \n",
    "        # store the loss MSE error\n",
    "        loocv_err[i,] <- (label.test - pred)^2\n",
    "    }\n",
    "    # Storing MSE's into a matrix and transposing it\n",
    "    loocv_avg_err <- t(colMeans(loocv_err))\n",
    "    \n",
    "    # return the error matrix\n",
    "    return(loocv_avg_err)\n",
    "}"
   ]
  },
  {
   "cell_type": "markdown",
   "metadata": {},
   "source": [
    "### II. Using the training data in Question 1, run your Leave-One-Out CV. Change the value of K=1,..,15 in your KNN regressor, and for each K compute the average of error values you have got for folds. Plot the average of error values versus 1/K for K=1,..,15 in your KNN regressor."
   ]
  },
  {
   "cell_type": "code",
   "execution_count": 11,
   "metadata": {},
   "outputs": [
    {
     "name": "stderr",
     "output_type": "stream",
     "text": [
      "Warning message in x[[jj]][iseq] <- vjj:\n",
      "\"number of items to replace is not a multiple of replacement length\"Warning message in x[[jj]][iseq] <- vjj:\n",
      "\"number of items to replace is not a multiple of replacement length\"Warning message in x[[jj]][iseq] <- vjj:\n",
      "\"number of items to replace is not a multiple of replacement length\"Warning message in x[[jj]][iseq] <- vjj:\n",
      "\"number of items to replace is not a multiple of replacement length\"Warning message in x[[jj]][iseq] <- vjj:\n",
      "\"number of items to replace is not a multiple of replacement length\"Warning message in x[[jj]][iseq] <- vjj:\n",
      "\"number of items to replace is not a multiple of replacement length\"Warning message in x[[jj]][iseq] <- vjj:\n",
      "\"number of items to replace is not a multiple of replacement length\"Warning message in x[[jj]][iseq] <- vjj:\n",
      "\"number of items to replace is not a multiple of replacement length\"Warning message in x[[jj]][iseq] <- vjj:\n",
      "\"number of items to replace is not a multiple of replacement length\"Warning message in x[[jj]][iseq] <- vjj:\n",
      "\"number of items to replace is not a multiple of replacement length\"Warning message in x[[jj]][iseq] <- vjj:\n",
      "\"number of items to replace is not a multiple of replacement length\"Warning message in x[[jj]][iseq] <- vjj:\n",
      "\"number of items to replace is not a multiple of replacement length\"Warning message in x[[jj]][iseq] <- vjj:\n",
      "\"number of items to replace is not a multiple of replacement length\"Warning message in x[[jj]][iseq] <- vjj:\n",
      "\"number of items to replace is not a multiple of replacement length\"Warning message in x[[jj]][iseq] <- vjj:\n",
      "\"number of items to replace is not a multiple of replacement length\""
     ]
    }
   ],
   "source": [
    "# Create a empty dataframe to store MSE\n",
    "miss <- data.frame('K'=1:15, 'Avg_err'=rep(0,15))\n",
    "\n",
    "# calculate the MSE for k in 1 to 15\n",
    "for (k in 1:15){\n",
    "    miss[k,'Avg_err'] <- cv(train.data, train.label, k, nrow(train.data))\n",
    "}"
   ]
  },
  {
   "cell_type": "code",
   "execution_count": 12,
   "metadata": {},
   "outputs": [
    {
     "data": {
      "image/png": "[encoded data removed]",
      "text/plain": [
       "plot without title"
      ]
     },
     "metadata": {},
     "output_type": "display_data"
    }
   ],
   "source": [
    "ggplot(data=miss, aes(x= 1/K, y= Avg_err)) + geom_line() +\n",
    "       scale_color_discrete(guide = guide_legend(title = NULL)) + theme_minimal() +\n",
    "       ggtitle(\"Loss Error\")"
   ]
  },
  {
   "cell_type": "markdown",
   "metadata": {},
   "source": [
    "### III. Report (in your Jupyter Notebook file) the optimum value for K based on your plot for this Leave-One-Out cross validation in the previous part (Part II).\n",
    "#### ANSWER\n",
    "\n",
    "It is obsorvered that, when K is `2`. We use MSE to calculate the MSE in LooCV."
   ]
  },
  {
   "cell_type": "code",
   "execution_count": null,
   "metadata": {},
   "outputs": [],
   "source": []
  }
 ],
 "metadata": {
  "kernelspec": {
   "display_name": "R",
   "language": "R",
   "name": "ir"
  },
  "language_info": {
   "codemirror_mode": "r",
   "file_extension": ".r",
   "mimetype": "text/x-r-source",
   "name": "R",
   "pygments_lexer": "r",
   "version": "3.6.1"
  }
 },
 "nbformat": 4,
 "nbformat_minor": 4
}
