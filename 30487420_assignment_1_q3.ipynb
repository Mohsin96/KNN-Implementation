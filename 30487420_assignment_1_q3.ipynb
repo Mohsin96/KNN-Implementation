{
 "cells": [
  {
   "cell_type": "markdown",
   "metadata": {},
   "source": [
    "### Developer: Mayana Mohsin Khan\n",
    "\n",
    "# Section B. Prediction Uncertainty with Bootstrapping\n",
    "## Bootstrapping\n",
    "\n",
    "### Loading Packages"
   ]
  },
  {
   "cell_type": "code",
   "execution_count": 15,
   "metadata": {
    "scrolled": false
   },
   "outputs": [],
   "source": [
    "# Loading packages\n",
    "library(reshape2)\n",
    "library(ggplot2)\n",
    "library(corrplot)"
   ]
  },
  {
   "cell_type": "markdown",
   "metadata": {},
   "source": [
    "### Loading Datasets"
   ]
  },
  {
   "cell_type": "code",
   "execution_count": 16,
   "metadata": {},
   "outputs": [],
   "source": [
    "# Loading training and testing dataset\n",
    "train <- read.csv('Task1B_train.csv')\n",
    "test <- read.csv('Task1B_test.csv')\n",
    "\n",
    "# splitting the data into predictiors and labels\n",
    "train.data <- data.matrix(train[,1:4])\n",
    "train.label <- data.matrix(train[,5])\n",
    "test.data <- data.matrix(test[,1:4])\n",
    "test.label <- data.matrix(test[,5])"
   ]
  },
  {
   "cell_type": "markdown",
   "metadata": {},
   "source": [
    "### I. Handle bootstrapping for KNN regression.\n",
    "#### Boot function to generate sample index"
   ]
  },
  {
   "cell_type": "code",
   "execution_count": 17,
   "metadata": {},
   "outputs": [
    {
     "data": {
      "text/html": [
       "<table>\n",
       "<tbody>\n",
       "\t<tr><td>12</td><td>12</td><td>62</td><td> 8</td><td>21</td><td> 4</td><td>31</td><td>32</td><td>19</td><td>15</td></tr>\n",
       "\t<tr><td>41</td><td>62</td><td>86</td><td>66</td><td>10</td><td>70</td><td>18</td><td>10</td><td> 8</td><td>71</td></tr>\n",
       "\t<tr><td>50</td><td>74</td><td>86</td><td>55</td><td>44</td><td>61</td><td>12</td><td>43</td><td>48</td><td>40</td></tr>\n",
       "\t<tr><td>16</td><td>24</td><td>27</td><td>96</td><td>97</td><td>10</td><td> 2</td><td>84</td><td> 9</td><td>33</td></tr>\n",
       "\t<tr><td>72</td><td>74</td><td> 2</td><td>34</td><td>20</td><td>57</td><td>42</td><td>58</td><td>27</td><td>94</td></tr>\n",
       "</tbody>\n",
       "</table>\n"
      ],
      "text/latex": [
       "\\begin{tabular}{llllllllll}\n",
       "\t 12 & 12 & 62 &  8 & 21 &  4 & 31 & 32 & 19 & 15\\\\\n",
       "\t 41 & 62 & 86 & 66 & 10 & 70 & 18 & 10 &  8 & 71\\\\\n",
       "\t 50 & 74 & 86 & 55 & 44 & 61 & 12 & 43 & 48 & 40\\\\\n",
       "\t 16 & 24 & 27 & 96 & 97 & 10 &  2 & 84 &  9 & 33\\\\\n",
       "\t 72 & 74 &  2 & 34 & 20 & 57 & 42 & 58 & 27 & 94\\\\\n",
       "\\end{tabular}\n"
      ],
      "text/markdown": [
       "\n",
       "| 12 | 12 | 62 |  8 | 21 |  4 | 31 | 32 | 19 | 15 |\n",
       "| 41 | 62 | 86 | 66 | 10 | 70 | 18 | 10 |  8 | 71 |\n",
       "| 50 | 74 | 86 | 55 | 44 | 61 | 12 | 43 | 48 | 40 |\n",
       "| 16 | 24 | 27 | 96 | 97 | 10 |  2 | 84 |  9 | 33 |\n",
       "| 72 | 74 |  2 | 34 | 20 | 57 | 42 | 58 | 27 | 94 |\n",
       "\n"
      ],
      "text/plain": [
       "     [,1] [,2] [,3] [,4] [,5] [,6] [,7] [,8] [,9] [,10]\n",
       "[1,] 12   12   62    8   21    4   31   32   19   15   \n",
       "[2,] 41   62   86   66   10   70   18   10    8   71   \n",
       "[3,] 50   74   86   55   44   61   12   43   48   40   \n",
       "[4,] 16   24   27   96   97   10    2   84    9   33   \n",
       "[5,] 72   74    2   34   20   57   42   58   27   94   "
      ]
     },
     "metadata": {},
     "output_type": "display_data"
    }
   ],
   "source": [
    "# define a function that generates sample indixes based on bootstrap technique\n",
    "boot <- function (original.size=100, sample.size=original.size, times=100){\n",
    "    \n",
    "    # Initialize the bootstrapping matrix\n",
    "    indx <- matrix(nrow=times, ncol=sample.size)\n",
    "    \n",
    "    # populate the matrix with sample indexes\n",
    "    for (t in 1:times){\n",
    "        indx[t, ] <- sample(x=original.size, size=sample.size, replace = TRUE)\n",
    "    }\n",
    "    return(indx)\n",
    "}\n",
    "# calling the boot function to test our boot matrix\n",
    "boot(100, 10, 5)"
   ]
  },
  {
   "cell_type": "markdown",
   "metadata": {},
   "source": [
    "### KNN function"
   ]
  },
  {
   "cell_type": "code",
   "execution_count": 18,
   "metadata": {},
   "outputs": [],
   "source": [
    "# Funcion to implement a knn regressor\n",
    "knn <- function(train.data, train.label, test.data, K=3, distance = 'manhattan'){\n",
    "    # Convert the train and test data as a matrix\n",
    "    train.data <- as.matrix(train.data)\n",
    "    train.label<- as.matrix(train.label)\n",
    "    test.data <- as.matrix(test.data)\n",
    "    \n",
    "    # length of the training samples\n",
    "    train.len <- nrow(train.data)\n",
    "    \n",
    "    ## count number of test samples\n",
    "    test.len <- nrow(test.data)\n",
    "\n",
    "    ## calculate distances between samples\n",
    "    dist <- as.matrix(dist(rbind(test.data, train.data), \n",
    "                           method= distance))[1:test.len, (test.len+1):(test.len+train.len)]\n",
    "    \n",
    "    # if lenght of training samples is 1, transform the the distance matrix\n",
    "    if(test.len == 1){\n",
    "        dist <- t(dist)\n",
    "    }\n",
    "\n",
    "    # for each test sample\n",
    "    for (i in 1:test.len){\n",
    "        # get the index of the sample \n",
    "        nn <- as.data.frame(sort(dist[i,], index.return = TRUE))[1:K,2]\n",
    "        # find nearest training samples\n",
    "        y <- train.label[nn,]\n",
    "        # calculate the test labels\n",
    "        test.label[i] <- mean(y)\n",
    "    }\n",
    "    \n",
    "    ## return the class test labels as output\n",
    "    return (test.label)\n",
    "}"
   ]
  },
  {
   "cell_type": "markdown",
   "metadata": {},
   "source": [
    "### II. Apply your bootstrapping for KNN regression with times = 50 (the number of subsets), size = 20 (the size of each subset), and change K=1,.., 15 (the neighbourhood size). \n",
    "\n",
    "Steps to preform bootstrapping:\n",
    "* Create the boot indexes.\n",
    "* loop for every N in 1 to 50.\n",
    "* loop for every k in 1 to 15.\n",
    "* Save the sample inded from bootstrap.\n",
    "* save the value of n and k into the missclassification dataframe.\n",
    "* calculate the MSE using $$mean(actual - predicted)^2$$.\n",
    "\n",
    "whereactual value is `test.label`, predicted value is obtained from `knn()` function."
   ]
  },
  {
   "cell_type": "code",
   "execution_count": null,
   "metadata": {},
   "outputs": [],
   "source": [
    "K <- 15 \n",
    "L <- 20 # size\n",
    "N <- 50 # Times\n",
    "\n",
    "# generate bootstrap indexes using boot function\n",
    "boot.indx <- boot(nrow(train.data), L, N)\n",
    "\n",
    "# dataframe to store the missclassification errors\n",
    "miss <- data.frame('K'=1:K, 'N'=1:N, 'test'=rep(0,N*K))\n",
    " \n",
    "# initialize a counter variable\n",
    "i = 0 \n",
    "\n",
    "## for every value in the dataset zie:\n",
    "for (n in 1:N){\n",
    "    \n",
    "    ### for every k value\n",
    "    for (k in 1:K){\n",
    "        \n",
    "        # increment the iteration index by 1\n",
    "        i <- i + 1\n",
    "        \n",
    "        #### save sample indices that were selected by bootstrap\n",
    "        indx <- boot.indx[n,]\n",
    "        \n",
    "        #### save the value of k and n into the missclassification datarame\n",
    "        miss[i,'K'] <- k\n",
    "        miss[i,'N'] <- n\n",
    "        \n",
    "        #### calculate and record the train and test missclassification loss rates\n",
    "        miss[i,'test'] <- mean((test.label - knn(train.data[indx,], train.label[indx], test.data, K=k))^2)\n",
    "    } \n",
    "}"
   ]
  },
  {
   "cell_type": "markdown",
   "metadata": {},
   "source": [
    "### Create a boxplot where the x-axis is K, and the y-axis is the average error (and the uncertainty around it) corresponding to each K."
   ]
  },
  {
   "cell_type": "code",
   "execution_count": null,
   "metadata": {
    "scrolled": false
   },
   "outputs": [],
   "source": [
    "# Pivot the dataframe\n",
    "miss.m <- melt(miss, id=c('K', 'N')) \n",
    "# rename the columns\n",
    "names(miss.m) <- c('K', 'N', 'type', 'miss')\n",
    "\n",
    "# create the box plot\n",
    "ggplot(data=miss.m, aes(factor(K), miss,fill=type)) + geom_boxplot(outlier.shape = NA)  + \n",
    "    scale_color_discrete(guide = guide_legend(title = NULL)) + \n",
    "    ggtitle('MSE Error vs. K (Box Plot)') + theme_minimal()\n",
    "\n",
    "# ignore the warnings (because of ignoring outliers)\n",
    "options(warn=-1)"
   ]
  },
  {
   "cell_type": "markdown",
   "metadata": {},
   "source": [
    "### III. Based on the plot in the previous part (Part II), how does the test error and its uncertainty behave as K increases? \n",
    "\n",
    "##### ANSWER\n",
    "It is observed, when the value of k increase the the loss rate increases along with the uncertainity in testing sample."
   ]
  },
  {
   "cell_type": "markdown",
   "metadata": {},
   "source": [
    "### IV. Apply your bootstrapping for KNN regression with K= 5(the neighbourhood size), times = 50 (the number of subsets), and change sizes = 5, 10, 15,..., 75 (the size of each subset). \n",
    "\n"
   ]
  },
  {
   "cell_type": "code",
   "execution_count": null,
   "metadata": {},
   "outputs": [],
   "source": [
    "K <- 5 \n",
    "N <- 50 # time - number of subsets\n",
    "L <- seq(from = 5, to = 75, by = 5) # size of subsets\n",
    "\n",
    "# dataframe to store the miscalssification error\n",
    "miss <- data.frame('N'=1:N, 'L'= L, 'test'=rep(0,N*length(L)))\n",
    "\n",
    "# counter to increment the iterations\n",
    "i = 0 \n",
    "\n",
    "## for every value in size of subset:\n",
    "for (l in L){\n",
    "    \n",
    "    # generate bootstrap indices:\n",
    "    boot.indx <- boot(nrow(train.data), l, N)\n",
    "    \n",
    "    ### for each subset:\n",
    "    for (n in 1:N){\n",
    "        \n",
    "        # Increment the iteration counter\n",
    "        i <- i + 1\n",
    "        \n",
    "        # save the sample boot indexes\n",
    "        indx <- boot.indx[n,]\n",
    "        \n",
    "        # save the value of N and L into dataframe\n",
    "        miss[i,'N'] <- n\n",
    "        miss[i,'L'] <- l\n",
    "        \n",
    "        # calculate and record the train and test missclassification rates\n",
    "        miss[i,'test'] <- mean((test.label - knn(train.data[indx,], train.label[indx], test.data, K=K))^2)\n",
    "    } \n",
    "}"
   ]
  },
  {
   "cell_type": "markdown",
   "metadata": {},
   "source": [
    "### Create a boxplot where the x-axis is ‘sizes’ and the y-axis is the average error (and the uncertainty around it) corresponding to each value of ‘times’."
   ]
  },
  {
   "cell_type": "code",
   "execution_count": null,
   "metadata": {},
   "outputs": [],
   "source": [
    "# Pivot the dataframe\n",
    "miss.m <- melt(miss, id=c('N', 'L')) \n",
    "# rename columns\n",
    "names(miss.m) <- c('N', 'L', 'type', 'miss')\n"
   ]
  },
  {
   "cell_type": "code",
   "execution_count": null,
   "metadata": {},
   "outputs": [],
   "source": [
    "# Plot MS vs L\n",
    "ggplot(data=miss.m, aes(factor(L), miss,fill=type)) + geom_boxplot(outlier.shape = NA)  + \n",
    "    scale_color_discrete(guide = guide_legend(title = NULL)) + \n",
    "    ggtitle('MSE Error vs. L(size of subsets) (Box Plot)') + theme_minimal()\n",
    "# ignore the warnings (because of ignoring outliers)\n",
    "\n",
    "options(warn=-1)"
   ]
  },
  {
   "cell_type": "markdown",
   "metadata": {},
   "source": [
    "### V. Based on the plot in the previous part (Part IV), how does the test error and its uncertainty behave as the size of each subset in bootstrapping increases? Explain in your Jupyter Notebook file.\n",
    "\n",
    "##### ANSWER"
   ]
  },
  {
   "cell_type": "markdown",
   "metadata": {},
   "source": [
    "It is observer from the graph that, the error is inversly proportional to the size of the dataset."
   ]
  },
  {
   "cell_type": "markdown",
   "metadata": {},
   "source": []
  }
 ],
 "metadata": {
  "kernelspec": {
   "display_name": "R",
   "language": "R",
   "name": "ir"
  },
  "language_info": {
   "codemirror_mode": "r",
   "file_extension": ".r",
   "mimetype": "text/x-r-source",
   "name": "R",
   "pygments_lexer": "r",
   "version": "3.6.1"
  }
 },
 "nbformat": 4,
 "nbformat_minor": 4
}
